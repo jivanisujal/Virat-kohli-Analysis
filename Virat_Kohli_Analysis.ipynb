{
 "cells": [
  {
   "cell_type": "code",
   "execution_count": 1,
   "metadata": {},
   "outputs": [],
   "source": [
    "import pandas as pd\n",
    "import matplotlib.pyplot as plt"
   ]
  },
  {
   "cell_type": "markdown",
   "metadata": {},
   "source": [
    "1.Read data"
   ]
  },
  {
   "cell_type": "code",
   "execution_count": 2,
   "metadata": {},
   "outputs": [
    {
     "data": {
      "text/html": [
       "<div>\n",
       "<style scoped>\n",
       "    .dataframe tbody tr th:only-of-type {\n",
       "        vertical-align: middle;\n",
       "    }\n",
       "\n",
       "    .dataframe tbody tr th {\n",
       "        vertical-align: top;\n",
       "    }\n",
       "\n",
       "    .dataframe thead th {\n",
       "        text-align: right;\n",
       "    }\n",
       "</style>\n",
       "<table border=\"1\" class=\"dataframe\">\n",
       "  <thead>\n",
       "    <tr style=\"text-align: right;\">\n",
       "      <th></th>\n",
       "      <th>Runs</th>\n",
       "      <th>BF</th>\n",
       "      <th>4s</th>\n",
       "      <th>6s</th>\n",
       "      <th>SR</th>\n",
       "      <th>Pos</th>\n",
       "      <th>Dismissal</th>\n",
       "      <th>Inns</th>\n",
       "      <th>Opposition</th>\n",
       "      <th>Ground</th>\n",
       "      <th>Start Date</th>\n",
       "    </tr>\n",
       "  </thead>\n",
       "  <tbody>\n",
       "    <tr>\n",
       "      <th>0</th>\n",
       "      <td>12</td>\n",
       "      <td>22</td>\n",
       "      <td>1</td>\n",
       "      <td>0</td>\n",
       "      <td>54.54</td>\n",
       "      <td>2.0</td>\n",
       "      <td>lbw</td>\n",
       "      <td>1</td>\n",
       "      <td>v Sri Lanka</td>\n",
       "      <td>Dambulla</td>\n",
       "      <td>18-Aug-08</td>\n",
       "    </tr>\n",
       "    <tr>\n",
       "      <th>1</th>\n",
       "      <td>37</td>\n",
       "      <td>67</td>\n",
       "      <td>6</td>\n",
       "      <td>0</td>\n",
       "      <td>55.22</td>\n",
       "      <td>2.0</td>\n",
       "      <td>caught</td>\n",
       "      <td>2</td>\n",
       "      <td>v Sri Lanka</td>\n",
       "      <td>Dambulla</td>\n",
       "      <td>20-Aug-08</td>\n",
       "    </tr>\n",
       "    <tr>\n",
       "      <th>2</th>\n",
       "      <td>25</td>\n",
       "      <td>38</td>\n",
       "      <td>4</td>\n",
       "      <td>0</td>\n",
       "      <td>65.78</td>\n",
       "      <td>1.0</td>\n",
       "      <td>run out</td>\n",
       "      <td>1</td>\n",
       "      <td>v Sri Lanka</td>\n",
       "      <td>Colombo (RPS)</td>\n",
       "      <td>24-Aug-08</td>\n",
       "    </tr>\n",
       "    <tr>\n",
       "      <th>3</th>\n",
       "      <td>54</td>\n",
       "      <td>66</td>\n",
       "      <td>7</td>\n",
       "      <td>0</td>\n",
       "      <td>81.81</td>\n",
       "      <td>1.0</td>\n",
       "      <td>bowled</td>\n",
       "      <td>1</td>\n",
       "      <td>v Sri Lanka</td>\n",
       "      <td>Colombo (RPS)</td>\n",
       "      <td>27-Aug-08</td>\n",
       "    </tr>\n",
       "    <tr>\n",
       "      <th>4</th>\n",
       "      <td>31</td>\n",
       "      <td>46</td>\n",
       "      <td>3</td>\n",
       "      <td>1</td>\n",
       "      <td>67.39</td>\n",
       "      <td>1.0</td>\n",
       "      <td>lbw</td>\n",
       "      <td>2</td>\n",
       "      <td>v Sri Lanka</td>\n",
       "      <td>Colombo (RPS)</td>\n",
       "      <td>29-Aug-08</td>\n",
       "    </tr>\n",
       "    <tr>\n",
       "      <th>...</th>\n",
       "      <td>...</td>\n",
       "      <td>...</td>\n",
       "      <td>...</td>\n",
       "      <td>...</td>\n",
       "      <td>...</td>\n",
       "      <td>...</td>\n",
       "      <td>...</td>\n",
       "      <td>...</td>\n",
       "      <td>...</td>\n",
       "      <td>...</td>\n",
       "      <td>...</td>\n",
       "    </tr>\n",
       "    <tr>\n",
       "      <th>127</th>\n",
       "      <td>45</td>\n",
       "      <td>51</td>\n",
       "      <td>2</td>\n",
       "      <td>1</td>\n",
       "      <td>88.23</td>\n",
       "      <td>3.0</td>\n",
       "      <td>caught</td>\n",
       "      <td>2</td>\n",
       "      <td>v New Zealand</td>\n",
       "      <td>Ranchi</td>\n",
       "      <td>26-Oct-16</td>\n",
       "    </tr>\n",
       "    <tr>\n",
       "      <th>128</th>\n",
       "      <td>65</td>\n",
       "      <td>76</td>\n",
       "      <td>2</td>\n",
       "      <td>1</td>\n",
       "      <td>85.52</td>\n",
       "      <td>3.0</td>\n",
       "      <td>caught</td>\n",
       "      <td>1</td>\n",
       "      <td>v New Zealand</td>\n",
       "      <td>Visakhapatnam</td>\n",
       "      <td>29-Oct-16</td>\n",
       "    </tr>\n",
       "    <tr>\n",
       "      <th>129</th>\n",
       "      <td>122</td>\n",
       "      <td>105</td>\n",
       "      <td>8</td>\n",
       "      <td>5</td>\n",
       "      <td>116.19</td>\n",
       "      <td>3.0</td>\n",
       "      <td>caught</td>\n",
       "      <td>2</td>\n",
       "      <td>v England</td>\n",
       "      <td>Pune</td>\n",
       "      <td>15-Jan-17</td>\n",
       "    </tr>\n",
       "    <tr>\n",
       "      <th>130</th>\n",
       "      <td>8</td>\n",
       "      <td>5</td>\n",
       "      <td>2</td>\n",
       "      <td>0</td>\n",
       "      <td>160.00</td>\n",
       "      <td>3.0</td>\n",
       "      <td>caught</td>\n",
       "      <td>1</td>\n",
       "      <td>v England</td>\n",
       "      <td>Cuttack</td>\n",
       "      <td>19-Jan-17</td>\n",
       "    </tr>\n",
       "    <tr>\n",
       "      <th>131</th>\n",
       "      <td>55</td>\n",
       "      <td>63</td>\n",
       "      <td>8</td>\n",
       "      <td>0</td>\n",
       "      <td>87.30</td>\n",
       "      <td>3.0</td>\n",
       "      <td>caught</td>\n",
       "      <td>2</td>\n",
       "      <td>v England</td>\n",
       "      <td>Kolkata</td>\n",
       "      <td>22-Jan-17</td>\n",
       "    </tr>\n",
       "  </tbody>\n",
       "</table>\n",
       "<p>132 rows × 11 columns</p>\n",
       "</div>"
      ],
      "text/plain": [
       "     Runs   BF  4s  6s      SR  Pos Dismissal  Inns     Opposition  \\\n",
       "0      12   22   1   0   54.54  2.0       lbw     1    v Sri Lanka   \n",
       "1      37   67   6   0   55.22  2.0    caught     2    v Sri Lanka   \n",
       "2      25   38   4   0   65.78  1.0   run out     1    v Sri Lanka   \n",
       "3      54   66   7   0   81.81  1.0    bowled     1    v Sri Lanka   \n",
       "4      31   46   3   1   67.39  1.0       lbw     2    v Sri Lanka   \n",
       "..    ...  ...  ..  ..     ...  ...       ...   ...            ...   \n",
       "127    45   51   2   1   88.23  3.0    caught     2  v New Zealand   \n",
       "128    65   76   2   1   85.52  3.0    caught     1  v New Zealand   \n",
       "129   122  105   8   5  116.19  3.0    caught     2      v England   \n",
       "130     8    5   2   0  160.00  3.0    caught     1      v England   \n",
       "131    55   63   8   0   87.30  3.0    caught     2      v England   \n",
       "\n",
       "            Ground Start Date  \n",
       "0         Dambulla  18-Aug-08  \n",
       "1         Dambulla  20-Aug-08  \n",
       "2    Colombo (RPS)  24-Aug-08  \n",
       "3    Colombo (RPS)  27-Aug-08  \n",
       "4    Colombo (RPS)  29-Aug-08  \n",
       "..             ...        ...  \n",
       "127         Ranchi  26-Oct-16  \n",
       "128  Visakhapatnam  29-Oct-16  \n",
       "129           Pune  15-Jan-17  \n",
       "130        Cuttack  19-Jan-17  \n",
       "131        Kolkata  22-Jan-17  \n",
       "\n",
       "[132 rows x 11 columns]"
      ]
     },
     "execution_count": 2,
     "metadata": {},
     "output_type": "execute_result"
    }
   ],
   "source": [
    "df=pd.read_csv('Virat_Kohli.csv')\n",
    "df"
   ]
  },
  {
   "cell_type": "code",
   "execution_count": 3,
   "metadata": {},
   "outputs": [
    {
     "data": {
      "text/plain": [
       "(132, 11)"
      ]
     },
     "execution_count": 3,
     "metadata": {},
     "output_type": "execute_result"
    }
   ],
   "source": [
    "df.shape"
   ]
  },
  {
   "cell_type": "code",
   "execution_count": 4,
   "metadata": {},
   "outputs": [
    {
     "data": {
      "text/html": [
       "<div>\n",
       "<style scoped>\n",
       "    .dataframe tbody tr th:only-of-type {\n",
       "        vertical-align: middle;\n",
       "    }\n",
       "\n",
       "    .dataframe tbody tr th {\n",
       "        vertical-align: top;\n",
       "    }\n",
       "\n",
       "    .dataframe thead th {\n",
       "        text-align: right;\n",
       "    }\n",
       "</style>\n",
       "<table border=\"1\" class=\"dataframe\">\n",
       "  <thead>\n",
       "    <tr style=\"text-align: right;\">\n",
       "      <th></th>\n",
       "      <th>Runs</th>\n",
       "      <th>BF</th>\n",
       "      <th>4s</th>\n",
       "      <th>6s</th>\n",
       "      <th>SR</th>\n",
       "      <th>Pos</th>\n",
       "      <th>Inns</th>\n",
       "    </tr>\n",
       "  </thead>\n",
       "  <tbody>\n",
       "    <tr>\n",
       "      <th>count</th>\n",
       "      <td>132.000000</td>\n",
       "      <td>132.000000</td>\n",
       "      <td>132.000000</td>\n",
       "      <td>132.000000</td>\n",
       "      <td>132.000000</td>\n",
       "      <td>132.000000</td>\n",
       "      <td>132.000000</td>\n",
       "    </tr>\n",
       "    <tr>\n",
       "      <th>mean</th>\n",
       "      <td>46.848485</td>\n",
       "      <td>50.871212</td>\n",
       "      <td>4.371212</td>\n",
       "      <td>0.545455</td>\n",
       "      <td>76.991212</td>\n",
       "      <td>3.303030</td>\n",
       "      <td>1.575758</td>\n",
       "    </tr>\n",
       "    <tr>\n",
       "      <th>std</th>\n",
       "      <td>41.994635</td>\n",
       "      <td>38.729716</td>\n",
       "      <td>4.404032</td>\n",
       "      <td>1.086795</td>\n",
       "      <td>37.874491</td>\n",
       "      <td>0.873174</td>\n",
       "      <td>0.496110</td>\n",
       "    </tr>\n",
       "    <tr>\n",
       "      <th>min</th>\n",
       "      <td>0.000000</td>\n",
       "      <td>0.000000</td>\n",
       "      <td>0.000000</td>\n",
       "      <td>0.000000</td>\n",
       "      <td>0.000000</td>\n",
       "      <td>1.000000</td>\n",
       "      <td>1.000000</td>\n",
       "    </tr>\n",
       "    <tr>\n",
       "      <th>25%</th>\n",
       "      <td>10.000000</td>\n",
       "      <td>17.750000</td>\n",
       "      <td>1.000000</td>\n",
       "      <td>0.000000</td>\n",
       "      <td>61.702500</td>\n",
       "      <td>3.000000</td>\n",
       "      <td>1.000000</td>\n",
       "    </tr>\n",
       "    <tr>\n",
       "      <th>50%</th>\n",
       "      <td>32.500000</td>\n",
       "      <td>42.500000</td>\n",
       "      <td>3.000000</td>\n",
       "      <td>0.000000</td>\n",
       "      <td>78.710000</td>\n",
       "      <td>3.000000</td>\n",
       "      <td>2.000000</td>\n",
       "    </tr>\n",
       "    <tr>\n",
       "      <th>75%</th>\n",
       "      <td>80.250000</td>\n",
       "      <td>82.250000</td>\n",
       "      <td>7.000000</td>\n",
       "      <td>1.000000</td>\n",
       "      <td>100.000000</td>\n",
       "      <td>4.000000</td>\n",
       "      <td>2.000000</td>\n",
       "    </tr>\n",
       "    <tr>\n",
       "      <th>max</th>\n",
       "      <td>154.000000</td>\n",
       "      <td>140.000000</td>\n",
       "      <td>18.000000</td>\n",
       "      <td>7.000000</td>\n",
       "      <td>209.090000</td>\n",
       "      <td>7.000000</td>\n",
       "      <td>2.000000</td>\n",
       "    </tr>\n",
       "  </tbody>\n",
       "</table>\n",
       "</div>"
      ],
      "text/plain": [
       "             Runs          BF          4s          6s          SR         Pos  \\\n",
       "count  132.000000  132.000000  132.000000  132.000000  132.000000  132.000000   \n",
       "mean    46.848485   50.871212    4.371212    0.545455   76.991212    3.303030   \n",
       "std     41.994635   38.729716    4.404032    1.086795   37.874491    0.873174   \n",
       "min      0.000000    0.000000    0.000000    0.000000    0.000000    1.000000   \n",
       "25%     10.000000   17.750000    1.000000    0.000000   61.702500    3.000000   \n",
       "50%     32.500000   42.500000    3.000000    0.000000   78.710000    3.000000   \n",
       "75%     80.250000   82.250000    7.000000    1.000000  100.000000    4.000000   \n",
       "max    154.000000  140.000000   18.000000    7.000000  209.090000    7.000000   \n",
       "\n",
       "             Inns  \n",
       "count  132.000000  \n",
       "mean     1.575758  \n",
       "std      0.496110  \n",
       "min      1.000000  \n",
       "25%      1.000000  \n",
       "50%      2.000000  \n",
       "75%      2.000000  \n",
       "max      2.000000  "
      ]
     },
     "execution_count": 4,
     "metadata": {},
     "output_type": "execute_result"
    }
   ],
   "source": [
    "df.describe()"
   ]
  },
  {
   "cell_type": "code",
   "execution_count": 5,
   "metadata": {},
   "outputs": [
    {
     "name": "stdout",
     "output_type": "stream",
     "text": [
      "<class 'pandas.core.frame.DataFrame'>\n",
      "RangeIndex: 132 entries, 0 to 131\n",
      "Data columns (total 11 columns):\n",
      " #   Column      Non-Null Count  Dtype  \n",
      "---  ------      --------------  -----  \n",
      " 0   Runs        132 non-null    int64  \n",
      " 1   BF          132 non-null    int64  \n",
      " 2   4s          132 non-null    int64  \n",
      " 3   6s          132 non-null    int64  \n",
      " 4   SR          132 non-null    float64\n",
      " 5   Pos         132 non-null    float64\n",
      " 6   Dismissal   132 non-null    object \n",
      " 7   Inns        132 non-null    int64  \n",
      " 8   Opposition  132 non-null    object \n",
      " 9   Ground      132 non-null    object \n",
      " 10  Start Date  132 non-null    object \n",
      "dtypes: float64(2), int64(5), object(4)\n",
      "memory usage: 11.5+ KB\n"
     ]
    }
   ],
   "source": [
    "df.info()"
   ]
  },
  {
   "cell_type": "markdown",
   "metadata": {},
   "source": [
    "2. Findout null values\n"
   ]
  },
  {
   "cell_type": "code",
   "execution_count": 6,
   "metadata": {},
   "outputs": [
    {
     "data": {
      "text/plain": [
       "Runs          0\n",
       "BF            0\n",
       "4s            0\n",
       "6s            0\n",
       "SR            0\n",
       "Pos           0\n",
       "Dismissal     0\n",
       "Inns          0\n",
       "Opposition    0\n",
       "Ground        0\n",
       "Start Date    0\n",
       "dtype: int64"
      ]
     },
     "execution_count": 6,
     "metadata": {},
     "output_type": "execute_result"
    }
   ],
   "source": [
    "df.isnull().sum()"
   ]
  },
  {
   "cell_type": "markdown",
   "metadata": {},
   "source": [
    "3. The dataset contains matches played by Virat Kohli between 18 August\n",
    "2008 and 22 January 2017. Find total runs scored by Virat Kohli:"
   ]
  },
  {
   "cell_type": "code",
   "execution_count": 7,
   "metadata": {},
   "outputs": [
    {
     "data": {
      "text/plain": [
       "6184"
      ]
     },
     "execution_count": 7,
     "metadata": {},
     "output_type": "execute_result"
    }
   ],
   "source": [
    "df['Runs'].sum()"
   ]
  },
  {
   "cell_type": "markdown",
   "metadata": {},
   "source": [
    "4. Find average of Virat Kohli during the same period"
   ]
  },
  {
   "cell_type": "code",
   "execution_count": 8,
   "metadata": {},
   "outputs": [
    {
     "data": {
      "text/plain": [
       "46.84848484848485"
      ]
     },
     "execution_count": 8,
     "metadata": {},
     "output_type": "execute_result"
    }
   ],
   "source": [
    "df['Runs'].mean()"
   ]
  },
  {
   "cell_type": "markdown",
   "metadata": {},
   "source": [
    "5. look at the trend of runs scored by Virat Kohli in his career from 18\n",
    "August 2008 to 22 January 2017:\n"
   ]
  },
  {
   "cell_type": "code",
   "execution_count": 9,
   "metadata": {},
   "outputs": [
    {
     "name": "stderr",
     "output_type": "stream",
     "text": [
      "C:\\Users\\Sujal\\AppData\\Local\\Temp\\ipykernel_19212\\4078876339.py:1: UserWarning: Could not infer format, so each element will be parsed individually, falling back to `dateutil`. To ensure parsing is consistent and as-expected, please specify a format.\n",
      "  df['Start Date']=pd.to_datetime(df['Start Date'])\n"
     ]
    },
    {
     "data": {
      "text/plain": [
       "0     2008-08-18\n",
       "1     2008-08-20\n",
       "2     2008-08-24\n",
       "3     2008-08-27\n",
       "4     2008-08-29\n",
       "         ...    \n",
       "127   2016-10-26\n",
       "128   2016-10-29\n",
       "129   2017-01-15\n",
       "130   2017-01-19\n",
       "131   2017-01-22\n",
       "Name: Start Date, Length: 132, dtype: datetime64[ns]"
      ]
     },
     "execution_count": 9,
     "metadata": {},
     "output_type": "execute_result"
    }
   ],
   "source": [
    "df['Start Date']=pd.to_datetime(df['Start Date'])\n",
    "df['Start Date']"
   ]
  },
  {
   "cell_type": "code",
   "execution_count": 10,
   "metadata": {},
   "outputs": [],
   "source": [
    "start_date='2008-8-18'\n",
    "end_date='2017-1-22'"
   ]
  },
  {
   "cell_type": "code",
   "execution_count": 11,
   "metadata": {},
   "outputs": [
    {
     "data": {
      "text/plain": [
       "0      True\n",
       "1      True\n",
       "2      True\n",
       "3      True\n",
       "4      True\n",
       "       ... \n",
       "127    True\n",
       "128    True\n",
       "129    True\n",
       "130    True\n",
       "131    True\n",
       "Name: Start Date, Length: 132, dtype: bool"
      ]
     },
     "execution_count": 11,
     "metadata": {},
     "output_type": "execute_result"
    }
   ],
   "source": [
    "runs_score=(df['Start Date']>=start_date) & (df['Start Date']<=end_date)\n",
    "runs_score"
   ]
  },
  {
   "cell_type": "code",
   "execution_count": 12,
   "metadata": {},
   "outputs": [
    {
     "data": {
      "text/html": [
       "<div>\n",
       "<style scoped>\n",
       "    .dataframe tbody tr th:only-of-type {\n",
       "        vertical-align: middle;\n",
       "    }\n",
       "\n",
       "    .dataframe tbody tr th {\n",
       "        vertical-align: top;\n",
       "    }\n",
       "\n",
       "    .dataframe thead th {\n",
       "        text-align: right;\n",
       "    }\n",
       "</style>\n",
       "<table border=\"1\" class=\"dataframe\">\n",
       "  <thead>\n",
       "    <tr style=\"text-align: right;\">\n",
       "      <th></th>\n",
       "      <th>Runs</th>\n",
       "      <th>BF</th>\n",
       "      <th>4s</th>\n",
       "      <th>6s</th>\n",
       "      <th>SR</th>\n",
       "      <th>Pos</th>\n",
       "      <th>Dismissal</th>\n",
       "      <th>Inns</th>\n",
       "      <th>Opposition</th>\n",
       "      <th>Ground</th>\n",
       "      <th>Start Date</th>\n",
       "    </tr>\n",
       "  </thead>\n",
       "  <tbody>\n",
       "    <tr>\n",
       "      <th>0</th>\n",
       "      <td>12</td>\n",
       "      <td>22</td>\n",
       "      <td>1</td>\n",
       "      <td>0</td>\n",
       "      <td>54.54</td>\n",
       "      <td>2.0</td>\n",
       "      <td>lbw</td>\n",
       "      <td>1</td>\n",
       "      <td>v Sri Lanka</td>\n",
       "      <td>Dambulla</td>\n",
       "      <td>2008-08-18</td>\n",
       "    </tr>\n",
       "    <tr>\n",
       "      <th>1</th>\n",
       "      <td>37</td>\n",
       "      <td>67</td>\n",
       "      <td>6</td>\n",
       "      <td>0</td>\n",
       "      <td>55.22</td>\n",
       "      <td>2.0</td>\n",
       "      <td>caught</td>\n",
       "      <td>2</td>\n",
       "      <td>v Sri Lanka</td>\n",
       "      <td>Dambulla</td>\n",
       "      <td>2008-08-20</td>\n",
       "    </tr>\n",
       "    <tr>\n",
       "      <th>2</th>\n",
       "      <td>25</td>\n",
       "      <td>38</td>\n",
       "      <td>4</td>\n",
       "      <td>0</td>\n",
       "      <td>65.78</td>\n",
       "      <td>1.0</td>\n",
       "      <td>run out</td>\n",
       "      <td>1</td>\n",
       "      <td>v Sri Lanka</td>\n",
       "      <td>Colombo (RPS)</td>\n",
       "      <td>2008-08-24</td>\n",
       "    </tr>\n",
       "    <tr>\n",
       "      <th>3</th>\n",
       "      <td>54</td>\n",
       "      <td>66</td>\n",
       "      <td>7</td>\n",
       "      <td>0</td>\n",
       "      <td>81.81</td>\n",
       "      <td>1.0</td>\n",
       "      <td>bowled</td>\n",
       "      <td>1</td>\n",
       "      <td>v Sri Lanka</td>\n",
       "      <td>Colombo (RPS)</td>\n",
       "      <td>2008-08-27</td>\n",
       "    </tr>\n",
       "    <tr>\n",
       "      <th>4</th>\n",
       "      <td>31</td>\n",
       "      <td>46</td>\n",
       "      <td>3</td>\n",
       "      <td>1</td>\n",
       "      <td>67.39</td>\n",
       "      <td>1.0</td>\n",
       "      <td>lbw</td>\n",
       "      <td>2</td>\n",
       "      <td>v Sri Lanka</td>\n",
       "      <td>Colombo (RPS)</td>\n",
       "      <td>2008-08-29</td>\n",
       "    </tr>\n",
       "    <tr>\n",
       "      <th>...</th>\n",
       "      <td>...</td>\n",
       "      <td>...</td>\n",
       "      <td>...</td>\n",
       "      <td>...</td>\n",
       "      <td>...</td>\n",
       "      <td>...</td>\n",
       "      <td>...</td>\n",
       "      <td>...</td>\n",
       "      <td>...</td>\n",
       "      <td>...</td>\n",
       "      <td>...</td>\n",
       "    </tr>\n",
       "    <tr>\n",
       "      <th>127</th>\n",
       "      <td>45</td>\n",
       "      <td>51</td>\n",
       "      <td>2</td>\n",
       "      <td>1</td>\n",
       "      <td>88.23</td>\n",
       "      <td>3.0</td>\n",
       "      <td>caught</td>\n",
       "      <td>2</td>\n",
       "      <td>v New Zealand</td>\n",
       "      <td>Ranchi</td>\n",
       "      <td>2016-10-26</td>\n",
       "    </tr>\n",
       "    <tr>\n",
       "      <th>128</th>\n",
       "      <td>65</td>\n",
       "      <td>76</td>\n",
       "      <td>2</td>\n",
       "      <td>1</td>\n",
       "      <td>85.52</td>\n",
       "      <td>3.0</td>\n",
       "      <td>caught</td>\n",
       "      <td>1</td>\n",
       "      <td>v New Zealand</td>\n",
       "      <td>Visakhapatnam</td>\n",
       "      <td>2016-10-29</td>\n",
       "    </tr>\n",
       "    <tr>\n",
       "      <th>129</th>\n",
       "      <td>122</td>\n",
       "      <td>105</td>\n",
       "      <td>8</td>\n",
       "      <td>5</td>\n",
       "      <td>116.19</td>\n",
       "      <td>3.0</td>\n",
       "      <td>caught</td>\n",
       "      <td>2</td>\n",
       "      <td>v England</td>\n",
       "      <td>Pune</td>\n",
       "      <td>2017-01-15</td>\n",
       "    </tr>\n",
       "    <tr>\n",
       "      <th>130</th>\n",
       "      <td>8</td>\n",
       "      <td>5</td>\n",
       "      <td>2</td>\n",
       "      <td>0</td>\n",
       "      <td>160.00</td>\n",
       "      <td>3.0</td>\n",
       "      <td>caught</td>\n",
       "      <td>1</td>\n",
       "      <td>v England</td>\n",
       "      <td>Cuttack</td>\n",
       "      <td>2017-01-19</td>\n",
       "    </tr>\n",
       "    <tr>\n",
       "      <th>131</th>\n",
       "      <td>55</td>\n",
       "      <td>63</td>\n",
       "      <td>8</td>\n",
       "      <td>0</td>\n",
       "      <td>87.30</td>\n",
       "      <td>3.0</td>\n",
       "      <td>caught</td>\n",
       "      <td>2</td>\n",
       "      <td>v England</td>\n",
       "      <td>Kolkata</td>\n",
       "      <td>2017-01-22</td>\n",
       "    </tr>\n",
       "  </tbody>\n",
       "</table>\n",
       "<p>132 rows × 11 columns</p>\n",
       "</div>"
      ],
      "text/plain": [
       "     Runs   BF  4s  6s      SR  Pos Dismissal  Inns     Opposition  \\\n",
       "0      12   22   1   0   54.54  2.0       lbw     1    v Sri Lanka   \n",
       "1      37   67   6   0   55.22  2.0    caught     2    v Sri Lanka   \n",
       "2      25   38   4   0   65.78  1.0   run out     1    v Sri Lanka   \n",
       "3      54   66   7   0   81.81  1.0    bowled     1    v Sri Lanka   \n",
       "4      31   46   3   1   67.39  1.0       lbw     2    v Sri Lanka   \n",
       "..    ...  ...  ..  ..     ...  ...       ...   ...            ...   \n",
       "127    45   51   2   1   88.23  3.0    caught     2  v New Zealand   \n",
       "128    65   76   2   1   85.52  3.0    caught     1  v New Zealand   \n",
       "129   122  105   8   5  116.19  3.0    caught     2      v England   \n",
       "130     8    5   2   0  160.00  3.0    caught     1      v England   \n",
       "131    55   63   8   0   87.30  3.0    caught     2      v England   \n",
       "\n",
       "            Ground Start Date  \n",
       "0         Dambulla 2008-08-18  \n",
       "1         Dambulla 2008-08-20  \n",
       "2    Colombo (RPS) 2008-08-24  \n",
       "3    Colombo (RPS) 2008-08-27  \n",
       "4    Colombo (RPS) 2008-08-29  \n",
       "..             ...        ...  \n",
       "127         Ranchi 2016-10-26  \n",
       "128  Visakhapatnam 2016-10-29  \n",
       "129           Pune 2017-01-15  \n",
       "130        Cuttack 2017-01-19  \n",
       "131        Kolkata 2017-01-22  \n",
       "\n",
       "[132 rows x 11 columns]"
      ]
     },
     "execution_count": 12,
     "metadata": {},
     "output_type": "execute_result"
    }
   ],
   "source": [
    "filter_data=df.loc[runs_score]\n",
    "filter_data"
   ]
  },
  {
   "cell_type": "code",
   "execution_count": 13,
   "metadata": {},
   "outputs": [
    {
     "data": {
      "image/png": "[encoded data removed]",
      "text/plain": [
       "<Figure size 640x480 with 1 Axes>"
      ]
     },
     "metadata": {},
     "output_type": "display_data"
    }
   ],
   "source": [
    "plt.plot(filter_data['Start Date'], filter_data['Runs'], marker='o', linestyle='-', color='green')\n",
    "plt.title('Trend of Runs Scored by Virat Kohli')\n",
    "plt.xlabel('Year')\n",
    "plt.ylabel('Runs')\n",
    "plt.grid()"
   ]
  },
  {
   "cell_type": "markdown",
   "metadata": {},
   "source": [
    "6. Find all the batting positions played by Virat Kohli:"
   ]
  },
  {
   "cell_type": "code",
   "execution_count": 14,
   "metadata": {},
   "outputs": [
    {
     "data": {
      "text/plain": [
       "array([2., 1., 7., 4., 3., 5., 6.])"
      ]
     },
     "execution_count": 14,
     "metadata": {},
     "output_type": "execute_result"
    }
   ],
   "source": [
    "df['Pos'].unique()"
   ]
  },
  {
   "cell_type": "markdown",
   "metadata": {},
   "source": [
    "7. Create pie chart of above analyzed data\n"
   ]
  },
  {
   "cell_type": "code",
   "execution_count": 15,
   "metadata": {},
   "outputs": [],
   "source": [
    "dismissals_counts = df['Dismissal'].value_counts()"
   ]
  },
  {
   "cell_type": "code",
   "execution_count": 16,
   "metadata": {},
   "outputs": [
    {
     "data": {
      "image/png": "[encoded data removed]",
      "text/plain": [
       "<Figure size 640x480 with 1 Axes>"
      ]
     },
     "metadata": {},
     "output_type": "display_data"
    }
   ],
   "source": [
    "plt.pie(dismissals_counts, labels=dismissals_counts.index, autopct='%1.1f%%')\n",
    "plt.title('Distribution of Dismissals')\n",
    "plt.show()"
   ]
  },
  {
   "cell_type": "markdown",
   "metadata": {},
   "source": [
    "8. look at the total runs scored by Virat Kohli in different positions:"
   ]
  },
  {
   "cell_type": "code",
   "execution_count": 17,
   "metadata": {},
   "outputs": [
    {
     "name": "stdout",
     "output_type": "stream",
     "text": [
      "Position 2: 51 runs\n",
      "Position 1: 110 runs\n",
      "Position 7: 30 runs\n",
      "Position 4: 1370 runs\n",
      "Position 3: 4477 runs\n",
      "Position 5: 123 runs\n",
      "Position 6: 23 runs\n"
     ]
    }
   ],
   "source": [
    "array = [2, 1, 7, 4, 3, 5, 6]\n",
    "pos = df['Pos']\n",
    "run = df['Runs']\n",
    "runs = [0] * len(array) \n",
    "for i in range(len(array)):\n",
    "    for j in range(len(pos)):\n",
    "        if array[i] == pos[j]:\n",
    "            runs[i] += run[j]\n",
    "\n",
    "for i in range(len(array)):\n",
    "    print(f\"Position {array[i]}: {runs[i]} runs\")\n"
   ]
  },
  {
   "cell_type": "markdown",
   "metadata": {},
   "source": [
    "9. find out the number of centuries scored by Virat Kohli while batting in\n",
    "the first innings and second innings:"
   ]
  },
  {
   "cell_type": "code",
   "execution_count": 18,
   "metadata": {},
   "outputs": [],
   "source": [
    "score = df.query('Runs>=100')"
   ]
  },
  {
   "cell_type": "code",
   "execution_count": 19,
   "metadata": {},
   "outputs": [
    {
     "data": {
      "image/png": "[encoded data removed]",
      "text/plain": [
       "<Figure size 640x480 with 1 Axes>"
      ]
     },
     "metadata": {},
     "output_type": "display_data"
    }
   ],
   "source": [
    "plt.bar(x=score['Inns'],height=score['Runs'])\n",
    "plt.show()"
   ]
  },
  {
   "cell_type": "markdown",
   "metadata": {},
   "source": [
    "10. Find the kind of dismissals Virat Kohli faced most of the time:"
   ]
  },
  {
   "cell_type": "code",
   "execution_count": 20,
   "metadata": {},
   "outputs": [
    {
     "data": {
      "text/plain": [
       "Dismissal\n",
       "caught        84\n",
       "not out       17\n",
       "run out       10\n",
       "bowled        10\n",
       "lbw            9\n",
       "stumped        1\n",
       "hit wicket     1\n",
       "Name: count, dtype: int64"
      ]
     },
     "execution_count": 20,
     "metadata": {},
     "output_type": "execute_result"
    }
   ],
   "source": [
    "df['Dismissal'].value_counts()"
   ]
  },
  {
   "cell_type": "markdown",
   "metadata": {},
   "source": [
    "11. Find out against which team Virat Kohli scored most of his runs:"
   ]
  },
  {
   "cell_type": "code",
   "execution_count": 21,
   "metadata": {},
   "outputs": [
    {
     "data": {
      "text/plain": [
       "Opposition\n",
       "v Sri Lanka       24\n",
       "v England         21\n",
       "v Australia       20\n",
       "v West Indies     19\n",
       "v South Africa    15\n",
       "v New Zealand     14\n",
       "v Bangladesh       8\n",
       "v Zimbabwe         5\n",
       "v Pakistan         4\n",
       "v Ireland          1\n",
       "v Netherlands      1\n",
       "Name: count, dtype: int64"
      ]
     },
     "execution_count": 21,
     "metadata": {},
     "output_type": "execute_result"
    }
   ],
   "source": [
    "df['Opposition'].value_counts()"
   ]
  },
  {
   "cell_type": "code",
   "execution_count": 22,
   "metadata": {},
   "outputs": [
    {
     "data": {
      "text/plain": [
       "<BarContainer object of 132 artists>"
      ]
     },
     "execution_count": 22,
     "metadata": {},
     "output_type": "execute_result"
    },
    {
     "data": {
      "image/png": "[encoded data removed]",
      "text/plain": [
       "<Figure size 1500x1000 with 1 Axes>"
      ]
     },
     "metadata": {},
     "output_type": "display_data"
    }
   ],
   "source": [
    "plt.figure(figsize=(15, 10))\n",
    "fig=plt.bar(x=df['Opposition'],height=df['Runs'])\n",
    "fig"
   ]
  },
  {
   "cell_type": "code",
   "execution_count": 23,
   "metadata": {},
   "outputs": [
    {
     "data": {
      "text/html": [
       "<div>\n",
       "<style scoped>\n",
       "    .dataframe tbody tr th:only-of-type {\n",
       "        vertical-align: middle;\n",
       "    }\n",
       "\n",
       "    .dataframe tbody tr th {\n",
       "        vertical-align: top;\n",
       "    }\n",
       "\n",
       "    .dataframe thead th {\n",
       "        text-align: right;\n",
       "    }\n",
       "</style>\n",
       "<table border=\"1\" class=\"dataframe\">\n",
       "  <thead>\n",
       "    <tr style=\"text-align: right;\">\n",
       "      <th></th>\n",
       "      <th>Runs</th>\n",
       "      <th>BF</th>\n",
       "      <th>4s</th>\n",
       "      <th>6s</th>\n",
       "      <th>SR</th>\n",
       "      <th>Pos</th>\n",
       "      <th>Dismissal</th>\n",
       "      <th>Inns</th>\n",
       "      <th>Opposition</th>\n",
       "      <th>Ground</th>\n",
       "      <th>Start Date</th>\n",
       "    </tr>\n",
       "  </thead>\n",
       "  <tbody>\n",
       "    <tr>\n",
       "      <th>0</th>\n",
       "      <td>12</td>\n",
       "      <td>22</td>\n",
       "      <td>1</td>\n",
       "      <td>0</td>\n",
       "      <td>54.54</td>\n",
       "      <td>2.0</td>\n",
       "      <td>lbw</td>\n",
       "      <td>1</td>\n",
       "      <td>v Sri Lanka</td>\n",
       "      <td>Dambulla</td>\n",
       "      <td>2008-08-18</td>\n",
       "    </tr>\n",
       "    <tr>\n",
       "      <th>1</th>\n",
       "      <td>37</td>\n",
       "      <td>67</td>\n",
       "      <td>6</td>\n",
       "      <td>0</td>\n",
       "      <td>55.22</td>\n",
       "      <td>2.0</td>\n",
       "      <td>caught</td>\n",
       "      <td>2</td>\n",
       "      <td>v Sri Lanka</td>\n",
       "      <td>Dambulla</td>\n",
       "      <td>2008-08-20</td>\n",
       "    </tr>\n",
       "    <tr>\n",
       "      <th>2</th>\n",
       "      <td>25</td>\n",
       "      <td>38</td>\n",
       "      <td>4</td>\n",
       "      <td>0</td>\n",
       "      <td>65.78</td>\n",
       "      <td>1.0</td>\n",
       "      <td>run out</td>\n",
       "      <td>1</td>\n",
       "      <td>v Sri Lanka</td>\n",
       "      <td>Colombo (RPS)</td>\n",
       "      <td>2008-08-24</td>\n",
       "    </tr>\n",
       "    <tr>\n",
       "      <th>3</th>\n",
       "      <td>54</td>\n",
       "      <td>66</td>\n",
       "      <td>7</td>\n",
       "      <td>0</td>\n",
       "      <td>81.81</td>\n",
       "      <td>1.0</td>\n",
       "      <td>bowled</td>\n",
       "      <td>1</td>\n",
       "      <td>v Sri Lanka</td>\n",
       "      <td>Colombo (RPS)</td>\n",
       "      <td>2008-08-27</td>\n",
       "    </tr>\n",
       "    <tr>\n",
       "      <th>4</th>\n",
       "      <td>31</td>\n",
       "      <td>46</td>\n",
       "      <td>3</td>\n",
       "      <td>1</td>\n",
       "      <td>67.39</td>\n",
       "      <td>1.0</td>\n",
       "      <td>lbw</td>\n",
       "      <td>2</td>\n",
       "      <td>v Sri Lanka</td>\n",
       "      <td>Colombo (RPS)</td>\n",
       "      <td>2008-08-29</td>\n",
       "    </tr>\n",
       "    <tr>\n",
       "      <th>...</th>\n",
       "      <td>...</td>\n",
       "      <td>...</td>\n",
       "      <td>...</td>\n",
       "      <td>...</td>\n",
       "      <td>...</td>\n",
       "      <td>...</td>\n",
       "      <td>...</td>\n",
       "      <td>...</td>\n",
       "      <td>...</td>\n",
       "      <td>...</td>\n",
       "      <td>...</td>\n",
       "    </tr>\n",
       "    <tr>\n",
       "      <th>127</th>\n",
       "      <td>45</td>\n",
       "      <td>51</td>\n",
       "      <td>2</td>\n",
       "      <td>1</td>\n",
       "      <td>88.23</td>\n",
       "      <td>3.0</td>\n",
       "      <td>caught</td>\n",
       "      <td>2</td>\n",
       "      <td>v New Zealand</td>\n",
       "      <td>Ranchi</td>\n",
       "      <td>2016-10-26</td>\n",
       "    </tr>\n",
       "    <tr>\n",
       "      <th>128</th>\n",
       "      <td>65</td>\n",
       "      <td>76</td>\n",
       "      <td>2</td>\n",
       "      <td>1</td>\n",
       "      <td>85.52</td>\n",
       "      <td>3.0</td>\n",
       "      <td>caught</td>\n",
       "      <td>1</td>\n",
       "      <td>v New Zealand</td>\n",
       "      <td>Visakhapatnam</td>\n",
       "      <td>2016-10-29</td>\n",
       "    </tr>\n",
       "    <tr>\n",
       "      <th>129</th>\n",
       "      <td>122</td>\n",
       "      <td>105</td>\n",
       "      <td>8</td>\n",
       "      <td>5</td>\n",
       "      <td>116.19</td>\n",
       "      <td>3.0</td>\n",
       "      <td>caught</td>\n",
       "      <td>2</td>\n",
       "      <td>v England</td>\n",
       "      <td>Pune</td>\n",
       "      <td>2017-01-15</td>\n",
       "    </tr>\n",
       "    <tr>\n",
       "      <th>130</th>\n",
       "      <td>8</td>\n",
       "      <td>5</td>\n",
       "      <td>2</td>\n",
       "      <td>0</td>\n",
       "      <td>160.00</td>\n",
       "      <td>3.0</td>\n",
       "      <td>caught</td>\n",
       "      <td>1</td>\n",
       "      <td>v England</td>\n",
       "      <td>Cuttack</td>\n",
       "      <td>2017-01-19</td>\n",
       "    </tr>\n",
       "    <tr>\n",
       "      <th>131</th>\n",
       "      <td>55</td>\n",
       "      <td>63</td>\n",
       "      <td>8</td>\n",
       "      <td>0</td>\n",
       "      <td>87.30</td>\n",
       "      <td>3.0</td>\n",
       "      <td>caught</td>\n",
       "      <td>2</td>\n",
       "      <td>v England</td>\n",
       "      <td>Kolkata</td>\n",
       "      <td>2017-01-22</td>\n",
       "    </tr>\n",
       "  </tbody>\n",
       "</table>\n",
       "<p>132 rows × 11 columns</p>\n",
       "</div>"
      ],
      "text/plain": [
       "     Runs   BF  4s  6s      SR  Pos Dismissal  Inns     Opposition  \\\n",
       "0      12   22   1   0   54.54  2.0       lbw     1    v Sri Lanka   \n",
       "1      37   67   6   0   55.22  2.0    caught     2    v Sri Lanka   \n",
       "2      25   38   4   0   65.78  1.0   run out     1    v Sri Lanka   \n",
       "3      54   66   7   0   81.81  1.0    bowled     1    v Sri Lanka   \n",
       "4      31   46   3   1   67.39  1.0       lbw     2    v Sri Lanka   \n",
       "..    ...  ...  ..  ..     ...  ...       ...   ...            ...   \n",
       "127    45   51   2   1   88.23  3.0    caught     2  v New Zealand   \n",
       "128    65   76   2   1   85.52  3.0    caught     1  v New Zealand   \n",
       "129   122  105   8   5  116.19  3.0    caught     2      v England   \n",
       "130     8    5   2   0  160.00  3.0    caught     1      v England   \n",
       "131    55   63   8   0   87.30  3.0    caught     2      v England   \n",
       "\n",
       "            Ground Start Date  \n",
       "0         Dambulla 2008-08-18  \n",
       "1         Dambulla 2008-08-20  \n",
       "2    Colombo (RPS) 2008-08-24  \n",
       "3    Colombo (RPS) 2008-08-27  \n",
       "4    Colombo (RPS) 2008-08-29  \n",
       "..             ...        ...  \n",
       "127         Ranchi 2016-10-26  \n",
       "128  Visakhapatnam 2016-10-29  \n",
       "129           Pune 2017-01-15  \n",
       "130        Cuttack 2017-01-19  \n",
       "131        Kolkata 2017-01-22  \n",
       "\n",
       "[132 rows x 11 columns]"
      ]
     },
     "execution_count": 23,
     "metadata": {},
     "output_type": "execute_result"
    }
   ],
   "source": [
    "df"
   ]
  },
  {
   "cell_type": "markdown",
   "metadata": {},
   "source": [
    "12. Find out against which team Virat Kohli scored most of his\n",
    "centuries:"
   ]
  },
  {
   "cell_type": "code",
   "execution_count": 24,
   "metadata": {},
   "outputs": [],
   "source": [
    "opo=score.query('Runs>=100')"
   ]
  },
  {
   "cell_type": "code",
   "execution_count": 25,
   "metadata": {},
   "outputs": [
    {
     "data": {
      "image/png": "[encoded data removed]",
      "text/plain": [
       "<Figure size 1500x1000 with 1 Axes>"
      ]
     },
     "metadata": {},
     "output_type": "display_data"
    }
   ],
   "source": [
    "plt.figure(figsize=(15, 10))\n",
    "plt.bar(x=score['Opposition'],height=score['Runs'])\n",
    "plt.show()"
   ]
  },
  {
   "cell_type": "code",
   "execution_count": 26,
   "metadata": {},
   "outputs": [
    {
     "data": {
      "text/plain": [
       "Opposition\n",
       "v Sri Lanka       24\n",
       "v England         21\n",
       "v Australia       20\n",
       "v West Indies     19\n",
       "v South Africa    15\n",
       "v New Zealand     14\n",
       "v Bangladesh       8\n",
       "v Zimbabwe         5\n",
       "v Pakistan         4\n",
       "v Ireland          1\n",
       "v Netherlands      1\n",
       "Name: count, dtype: int64"
      ]
     },
     "execution_count": 26,
     "metadata": {},
     "output_type": "execute_result"
    }
   ],
   "source": [
    "df['Opposition'].value_counts()"
   ]
  },
  {
   "cell_type": "markdown",
   "metadata": {},
   "source": [
    "13. let’s analyze Virat Kohli’s strike rate."
   ]
  },
  {
   "cell_type": "code",
   "execution_count": 27,
   "metadata": {},
   "outputs": [],
   "source": [
    "data=df['SR'].mean()"
   ]
  },
  {
   "cell_type": "code",
   "execution_count": 28,
   "metadata": {},
   "outputs": [
    {
     "data": {
      "text/plain": [
       "76.99121212121213"
      ]
     },
     "execution_count": 28,
     "metadata": {},
     "output_type": "execute_result"
    }
   ],
   "source": [
    "data"
   ]
  },
  {
   "cell_type": "code",
   "execution_count": 29,
   "metadata": {},
   "outputs": [
    {
     "data": {
      "text/plain": [
       "array([ 54.54,  55.22,  65.78,  81.81,  67.39, 100.  ,  73.17,  62.5 ,\n",
       "       142.1 ,  83.07,  93.85,  89.21, 107.36,  80.28,   0.  ,  62.06,\n",
       "        71.42,  82.35,  64.91,  97.52, 100.96,  87.67,  90.  ,  25.  ,\n",
       "        77.14,  64.7 ,  68.29,  94.56,  33.33, 120.48,  64.15,  60.  ,\n",
       "        77.63,  72.72,  42.85,  78.64,  66.66,  90.38,  38.88, 115.05,\n",
       "        58.73, 114.28, 116.66,  86.86,  50.  ,  95.12, 209.09,  94.11,\n",
       "        91.17,  64.28,  48.  ,  77.77,  80.48,  93.8 ,  20.  ,  58.46,\n",
       "       107.56,  65.71,  41.17,  68.18,  68.51,  97.46,  78.78, 126.47,\n",
       "        52.38, 122.89, 106.48,  77.27,  71.76, 192.3 ,  93.15, 174.24,\n",
       "       102.38,  99.  , 105.55,  88.57, 110.81, 120.  , 105.12, 111.47,\n",
       "        80.  ,  61.9 ,  40.  ,  79.48, 111.4 , 104.76, 111.36,  86.88,\n",
       "       103.12, 110.31,  56.25,   7.69,  85.18,  61.11,  98.57,  93.81,\n",
       "        88.05, 115.21, 104.93,  69.23, 114.92,  88.23,  85.52, 116.19,\n",
       "       160.  ,  87.3 ])"
      ]
     },
     "execution_count": 29,
     "metadata": {},
     "output_type": "execute_result"
    }
   ],
   "source": [
    "df['SR'].unique()"
   ]
  },
  {
   "cell_type": "markdown",
   "metadata": {},
   "source": [
    "14. let’s see whether Virat Kohli plays with high strike rates in the\n",
    "first innings or second innings:"
   ]
  },
  {
   "cell_type": "code",
   "execution_count": 30,
   "metadata": {},
   "outputs": [],
   "source": [
    "score = df.query('SR>=120')"
   ]
  },
  {
   "cell_type": "code",
   "execution_count": 31,
   "metadata": {},
   "outputs": [
    {
     "data": {
      "image/png": "[encoded data removed]",
      "text/plain": [
       "<Figure size 640x480 with 1 Axes>"
      ]
     },
     "metadata": {},
     "output_type": "display_data"
    }
   ],
   "source": [
    "# plt.figure(figsize=(15, 10))\n",
    "plt.bar(x=score['Inns'],height=score['SR'])\n",
    "plt.show()"
   ]
  },
  {
   "cell_type": "markdown",
   "metadata": {},
   "source": [
    "15. Find the relationship between runs scored by Virat Kohli and\n",
    "fours played by him in each innings:"
   ]
  },
  {
   "cell_type": "code",
   "execution_count": 32,
   "metadata": {},
   "outputs": [
    {
     "data": {
      "text/plain": [
       "<matplotlib.collections.PathCollection at 0x15692a2d400>"
      ]
     },
     "execution_count": 32,
     "metadata": {},
     "output_type": "execute_result"
    },
    {
     "data": {
      "image/png": "[encoded data removed]",
      "text/plain": [
       "<Figure size 1500x500 with 1 Axes>"
      ]
     },
     "metadata": {},
     "output_type": "display_data"
    }
   ],
   "source": [
    "plt.figure(figsize=(15,5))\n",
    "plt.scatter(df['Runs'],df['4s'])"
   ]
  },
  {
   "cell_type": "markdown",
   "metadata": {},
   "source": [
    "16.Find out if there is some relationship with the sixes"
   ]
  },
  {
   "cell_type": "code",
   "execution_count": 33,
   "metadata": {},
   "outputs": [
    {
     "data": {
      "text/plain": [
       "<matplotlib.collections.PathCollection at 0x15692e256d0>"
      ]
     },
     "execution_count": 33,
     "metadata": {},
     "output_type": "execute_result"
    },
    {
     "data": {
      "image/png": "[encoded data removed]",
      "text/plain": [
       "<Figure size 1500x500 with 1 Axes>"
      ]
     },
     "metadata": {},
     "output_type": "display_data"
    }
   ],
   "source": [
    "plt.figure(figsize=(15,5))\n",
    "plt.scatter(df['Runs'],df['6s'])"
   ]
  },
  {
   "cell_type": "code",
   "execution_count": null,
   "metadata": {},
   "outputs": [],
   "source": []
  },
  {
   "cell_type": "code",
   "execution_count": null,
   "metadata": {},
   "outputs": [],
   "source": []
  },
  {
   "cell_type": "code",
   "execution_count": null,
   "metadata": {},
   "outputs": [],
   "source": []
  },
  {
   "cell_type": "code",
   "execution_count": null,
   "metadata": {},
   "outputs": [],
   "source": []
  }
 ],
 "metadata": {
  "kernelspec": {
   "display_name": "Python 3",
   "language": "python",
   "name": "python3"
  },
  "language_info": {
   "codemirror_mode": {
    "name": "ipython",
    "version": 3
   },
   "file_extension": ".py",
   "mimetype": "text/x-python",
   "name": "python",
   "nbconvert_exporter": "python",
   "pygments_lexer": "ipython3",
   "version": "3.12.2"
  }
 },
 "nbformat": 4,
 "nbformat_minor": 2
}
